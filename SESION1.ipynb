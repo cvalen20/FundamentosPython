{
 "cells": [
  {
   "cell_type": "markdown",
   "metadata": {},
   "source": [
    "Hacer un programa que calcule la suma de los números naturales menores o iguales a un entero $n$ ingresado por le usuario"
   ]
  },
  {
   "cell_type": "code",
   "execution_count": null,
   "metadata": {},
   "outputs": [],
   "source": []
  },
  {
   "cell_type": "markdown",
   "metadata": {},
   "source": [
    "Un parque de diversiones determina el precio de la entrada en función de la edad del cliente. Los cliente de 2 años o menos son admitidos sin costo. Niños entre 3 y Los 12 años pagan \\\\$14000. Las personas mayores de 65 años y más pagan \\\\$18000. La admisión para todos los demás clientes es de \\\\$23000. Cree un programa que comience leyendo las edades de todos los clientes de un grupo desde una lista de edades. Entonces su programa debería mostrar el costo de admisión para el grupo con un mensaje apropiado."
   ]
  },
  {
   "cell_type": "code",
   "execution_count": null,
   "metadata": {},
   "outputs": [],
   "source": []
  },
  {
   "cell_type": "markdown",
   "metadata": {},
   "source": [
    "El valor de $\\pi$ se puede aproximar mediante la siguiente serie infinita:\n",
    "\n",
    "$\\pi = 3 + \\frac{4}{2 \\times 3 \\times 4} - \\frac{4}{4 \\times 5 \\times 6} + \\frac{4}{6 \\times 7 \\times 8} - \\frac{4}{8 \\times 9 \\times 10} + ...$\n",
    "\n",
    "Escribe un programa que muestre 15 aproximaciones de $\\pi$. La primera aproximación debe hacer uso del primer término de la serie infinita. Cada aproximación adicional mostrada por su programa debe incluir un término más en la serie, calculando así\n",
    "una mejor aproximación de $\\pi$ que cualquiera de las aproximaciones mostradas anteriormente."
   ]
  },
  {
   "cell_type": "code",
   "execution_count": null,
   "metadata": {},
   "outputs": [],
   "source": []
  }
 ],
 "metadata": {
  "kernelspec": {
   "display_name": "Python 3",
   "language": "python",
   "name": "python3"
  },
  "language_info": {
   "codemirror_mode": {
    "name": "ipython",
    "version": 3
   },
   "file_extension": ".py",
   "mimetype": "text/x-python",
   "name": "python",
   "nbconvert_exporter": "python",
   "pygments_lexer": "ipython3",
   "version": "3.8.5"
  }
 },
 "nbformat": 4,
 "nbformat_minor": 4
}
