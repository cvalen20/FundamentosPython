{
 "cells": [
  {
   "cell_type": "markdown",
   "metadata": {},
   "source": [
    "## Manejo de cadenas de caracteres (strings)"
   ]
  },
  {
   "cell_type": "code",
   "execution_count": 9,
   "metadata": {},
   "outputs": [],
   "source": [
    "a = 'Juan Perez'"
   ]
  },
  {
   "cell_type": "code",
   "execution_count": 10,
   "metadata": {},
   "outputs": [
    {
     "name": "stdout",
     "output_type": "stream",
     "text": [
      "Juan Perez <class 'str'>\n"
     ]
    }
   ],
   "source": [
    "print(a, type(a))"
   ]
  },
  {
   "cell_type": "code",
   "execution_count": 11,
   "metadata": {},
   "outputs": [
    {
     "name": "stdout",
     "output_type": "stream",
     "text": [
      " \n"
     ]
    }
   ],
   "source": [
    "print(a[4])"
   ]
  },
  {
   "cell_type": "code",
   "execution_count": 12,
   "metadata": {},
   "outputs": [],
   "source": [
    "b = 'Solano'"
   ]
  },
  {
   "cell_type": "code",
   "execution_count": 15,
   "metadata": {},
   "outputs": [
    {
     "name": "stdout",
     "output_type": "stream",
     "text": [
      "Juan Perez Solano\n"
     ]
    }
   ],
   "source": [
    "print(a + ' ' + b)"
   ]
  },
  {
   "cell_type": "code",
   "execution_count": 17,
   "metadata": {},
   "outputs": [
    {
     "data": {
      "text/plain": [
       "True"
      ]
     },
     "execution_count": 17,
     "metadata": {},
     "output_type": "execute_result"
    }
   ],
   "source": [
    "a == 'Juan Perez'"
   ]
  },
  {
   "cell_type": "code",
   "execution_count": 18,
   "metadata": {},
   "outputs": [],
   "source": [
    "c = a.replace(\"J\",\"X\")"
   ]
  },
  {
   "cell_type": "code",
   "execution_count": 19,
   "metadata": {},
   "outputs": [
    {
     "name": "stdout",
     "output_type": "stream",
     "text": [
      "Xuan Perez\n"
     ]
    }
   ],
   "source": [
    "print(c)"
   ]
  },
  {
   "cell_type": "code",
   "execution_count": 20,
   "metadata": {},
   "outputs": [
    {
     "name": "stdout",
     "output_type": "stream",
     "text": [
      "XUAN PEREZ\n"
     ]
    }
   ],
   "source": [
    "print(c.upper())"
   ]
  },
  {
   "cell_type": "markdown",
   "metadata": {},
   "source": [
    "## Diccionarios en Python"
   ]
  },
  {
   "cell_type": "code",
   "execution_count": 26,
   "metadata": {},
   "outputs": [
    {
     "name": "stdout",
     "output_type": "stream",
     "text": [
      "5\n"
     ]
    }
   ],
   "source": [
    "lista = [ 5, 2, 3 ]\n",
    "print( lista[0] )"
   ]
  },
  {
   "cell_type": "code",
   "execution_count": 29,
   "metadata": {},
   "outputs": [
    {
     "name": "stdout",
     "output_type": "stream",
     "text": [
      "100\n"
     ]
    }
   ],
   "source": [
    "dicc = { 'val3':5, 'val1':[100, 200], 'val2':3 }\n",
    "print(dicc['val1'][0])"
   ]
  },
  {
   "cell_type": "markdown",
   "metadata": {},
   "source": [
    "## Ejemplo"
   ]
  },
  {
   "cell_type": "markdown",
   "metadata": {},
   "source": [
    "Escriba un programa que traduzca un mensaje dado a código Morse. Ayuda: use un diccionario para almacenar el código morse de cada letra del abecedario."
   ]
  },
  {
   "cell_type": "code",
   "execution_count": 55,
   "metadata": {},
   "outputs": [],
   "source": [
    "import winsound\n",
    "\n",
    "morse = {\n",
    "        'A': '.-',     'B': '-...',    'C': '-.-.',\n",
    "        'D': '-..',    'E': '.',       'F': '..-.',\n",
    "        'G': '--.',    'H': '....',    'I': '..',\n",
    "        'J': '.---',   'K': '-.-',     'L': '.-..',\n",
    "        'M': '--',     'N': '-.',      'O': '---',\n",
    "        'P': '.--.',   'Q': '--.-',    'R': '.-.',\n",
    "        'S': '...',    'T': '-',       'U': '..-',\n",
    "        'V': '...-',   'W': '.--',     'X': '-..-',\n",
    "        'Y': '-.--',   'Z': '--..', ' ':' '}"
   ]
  },
  {
   "cell_type": "code",
   "execution_count": 57,
   "metadata": {},
   "outputs": [
    {
     "name": "stdout",
     "output_type": "stream",
     "text": [
      ".\n",
      ".\n",
      ".\n",
      "-\n",
      "-\n",
      "-\n",
      ".\n",
      ".\n",
      ".\n",
      "... --- ... \n"
     ]
    }
   ],
   "source": [
    "mensaje = 'SOS'\n",
    "mensaje = mensaje.upper()\n",
    "salida = ''\n",
    "for letra in mensaje:\n",
    "    equiv = morse[letra]\n",
    "    salida = salida + equiv + ' '\n",
    "    \n",
    "    for sim in equiv:\n",
    "        print(sim)\n",
    "        if sim == '.':\n",
    "            winsound.Beep(2500, 200)\n",
    "        else:\n",
    "            winsound.Beep(2500, 600)\n",
    "    \n",
    "print(salida)"
   ]
  },
  {
   "cell_type": "markdown",
   "metadata": {},
   "source": [
    "salida: .... --- .-.. .-"
   ]
  },
  {
   "cell_type": "code",
   "execution_count": null,
   "metadata": {},
   "outputs": [],
   "source": []
  }
 ],
 "metadata": {
  "kernelspec": {
   "display_name": "Python 3",
   "language": "python",
   "name": "python3"
  },
  "language_info": {
   "codemirror_mode": {
    "name": "ipython",
    "version": 3
   },
   "file_extension": ".py",
   "mimetype": "text/x-python",
   "name": "python",
   "nbconvert_exporter": "python",
   "pygments_lexer": "ipython3",
   "version": "3.8.5"
  }
 },
 "nbformat": 4,
 "nbformat_minor": 4
}
