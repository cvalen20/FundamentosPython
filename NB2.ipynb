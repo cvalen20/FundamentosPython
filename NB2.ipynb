{
 "cells": [
  {
   "cell_type": "markdown",
   "metadata": {},
   "source": [
    "## Ciclos"
   ]
  },
  {
   "cell_type": "markdown",
   "metadata": {},
   "source": [
    "Ciclo **para** "
   ]
  },
  {
   "cell_type": "markdown",
   "metadata": {},
   "source": [
    "Perimte hacer un número de iteraciones determinado"
   ]
  },
  {
   "cell_type": "code",
   "execution_count": 13,
   "metadata": {},
   "outputs": [
    {
     "name": "stdout",
     "output_type": "stream",
     "text": [
      "0\n",
      "1\n",
      "2\n",
      "3\n",
      "4\n",
      "5\n",
      "6\n",
      "7\n",
      "8\n",
      "9\n"
     ]
    }
   ],
   "source": [
    "for contador in range(10):\n",
    "    a = 2*contador\n",
    "    print(contador)\n",
    "    #print('Hola')\n",
    "    #print('¿cómo estás?')\n",
    "    \n",
    "#print('Buenos días')"
   ]
  },
  {
   "cell_type": "markdown",
   "metadata": {},
   "source": [
    "Escribir un programa que calcule la suma de los naturales menores o iguales a un entero $n$."
   ]
  },
  {
   "cell_type": "code",
   "execution_count": 26,
   "metadata": {},
   "outputs": [
    {
     "name": "stdout",
     "output_type": "stream",
     "text": [
      "15\n",
      "15.0\n"
     ]
    }
   ],
   "source": [
    "n = 5\n",
    "acum = 0\n",
    "\n",
    "for i in range(n):\n",
    "    num_s = i + 1\n",
    "    acum = acum + num_s\n",
    "    #print(num_s, acum)\n",
    "    \n",
    "print(acum)\n",
    "sum = n*(n+1)/2\n",
    "print(sum)"
   ]
  },
  {
   "cell_type": "code",
   "execution_count": 27,
   "metadata": {},
   "outputs": [
    {
     "name": "stdout",
     "output_type": "stream",
     "text": [
      "5.0\n"
     ]
    }
   ],
   "source": [
    "a = 2\n",
    "b = 5\n",
    "c = 8\n",
    "\n",
    "prom = (a+b+c) / 3\n",
    "\n",
    "print(prom)"
   ]
  },
  {
   "cell_type": "markdown",
   "metadata": {},
   "source": [
    "## Listas"
   ]
  },
  {
   "cell_type": "markdown",
   "metadata": {},
   "source": [
    "Estructura que permite agrupar múltiples valores en una sola variable. Ejemplo:"
   ]
  },
  {
   "cell_type": "code",
   "execution_count": 28,
   "metadata": {},
   "outputs": [],
   "source": [
    "L = [ 1, 5, 100, 8 ]"
   ]
  },
  {
   "cell_type": "code",
   "execution_count": 29,
   "metadata": {},
   "outputs": [
    {
     "name": "stdout",
     "output_type": "stream",
     "text": [
      "[1, 5, 100, 8]\n"
     ]
    }
   ],
   "source": [
    "print(L)"
   ]
  },
  {
   "cell_type": "code",
   "execution_count": 34,
   "metadata": {},
   "outputs": [
    {
     "name": "stdout",
     "output_type": "stream",
     "text": [
      "1\n",
      "100\n"
     ]
    }
   ],
   "source": [
    "print(L[0])\n",
    "print(L[2])"
   ]
  },
  {
   "cell_type": "markdown",
   "metadata": {},
   "source": []
  },
  {
   "cell_type": "code",
   "execution_count": 36,
   "metadata": {},
   "outputs": [
    {
     "name": "stdout",
     "output_type": "stream",
     "text": [
      "8\n",
      "5\n"
     ]
    }
   ],
   "source": [
    "print(L[-1])\n",
    "print(L[-3])"
   ]
  },
  {
   "cell_type": "code",
   "execution_count": 1,
   "metadata": {},
   "outputs": [
    {
     "name": "stdout",
     "output_type": "stream",
     "text": [
      "0 2\n",
      "1 10\n",
      "2 15\n",
      "3 7\n",
      "4 6\n"
     ]
    }
   ],
   "source": [
    "Lista_2 = [ 2, 10, 15, 7, 6 ]\n",
    "n = len(Lista_2)\n",
    "for i in range(n):\n",
    "    print( i, Lista_2[i] )"
   ]
  },
  {
   "cell_type": "markdown",
   "metadata": {},
   "source": [
    "Un parque acuático en particular determina el precio de la entrada en función de la edad del cliente. Los cliente de 2 años o menos son admitidos sin costo. Niños entre 3 y Los 12 años pagan \\\\$14000. Las personas mayores de 65 años y más pagan \\\\$18000. La admisión para todos los demás clientes es de \\\\$23000. Cree un programa que comience leyendo las edades de todos los clientes de un grupo desde una lista de edades. Entonces su programa debería mostrar el costo de admisión para el grupo con un mensaje apropiado."
   ]
  },
  {
   "cell_type": "code",
   "execution_count": 55,
   "metadata": {},
   "outputs": [
    {
     "name": "stdout",
     "output_type": "stream",
     "text": [
      "El grupo tiene que pagar $ 110000\n"
     ]
    }
   ],
   "source": [
    "edades = [ 2, 54, 17, 28, 86, 60, 1 ]\n",
    "n = len(edades)\n",
    "\n",
    "costo_tot = 0\n",
    "\n",
    "for i in range(n):\n",
    "    edad = edades[i]\n",
    "    \n",
    "    if edad <= 2:\n",
    "        precio = 0\n",
    "    if 3 <= edad <= 12:\n",
    "        precio = 14000\n",
    "    if 13 <= edad <= 64:\n",
    "        precio = 23000\n",
    "    if edad >= 65:\n",
    "        precio = 18000\n",
    "        \n",
    "    costo_tot = costo_tot + precio\n",
    "        \n",
    "\n",
    "print('El grupo tiene que pagar $', costo_tot)\n"
   ]
  },
  {
   "cell_type": "markdown",
   "metadata": {},
   "source": [
    "El valor de $\\pi$ se puede aproximar mediante la siguiente serie infinita:\n",
    "\n",
    "$\\pi = 3 + \\frac{4}{2 \\times 3 \\times 4} - \\frac{4}{4 \\times 5 \\times 6} + \\frac{4}{6 \\times 7 \\times 8} - \\frac{4}{8 \\times 9 \\times 10}  +  ...$\n",
    "\n",
    "Escribe un programa que muestre 15 aproximaciones de $\\pi$. La primera aproximación debe hacer uso del primer término de la serie infinita. Cada aproximación adicional mostrada por su programa debe incluir un término más en la serie, calculando así\n",
    "una mejor aproximación de $\\pi$ que cualquiera de las aproximaciones mostradas anteriormente."
   ]
  },
  {
   "cell_type": "code",
   "execution_count": null,
   "metadata": {},
   "outputs": [],
   "source": []
  }
 ],
 "metadata": {
  "kernelspec": {
   "display_name": "Python 3",
   "language": "python",
   "name": "python3"
  },
  "language_info": {
   "codemirror_mode": {
    "name": "ipython",
    "version": 3
   },
   "file_extension": ".py",
   "mimetype": "text/x-python",
   "name": "python",
   "nbconvert_exporter": "python",
   "pygments_lexer": "ipython3",
   "version": "3.8.5"
  }
 },
 "nbformat": 4,
 "nbformat_minor": 4
}
